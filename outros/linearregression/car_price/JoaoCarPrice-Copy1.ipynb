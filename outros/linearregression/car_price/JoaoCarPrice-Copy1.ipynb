{
 "cells": [
  {
   "cell_type": "code",
   "execution_count": 20,
   "metadata": {},
   "outputs": [],
   "source": [
    "import pandas as pd\n",
    "import numpy as np\n",
    "from feature_engine import categorical_encoders as ce\n",
    "from sklearn.model_selection import train_test_split\n",
    "\n",
    "\n",
    "from sklearn import preprocessing\n",
    "from sklearn.linear_model import LinearRegression\n",
    "\n",
    "\n",
    "def EDALUCIO (df, order):\n",
    "    eda_df = {}\n",
    "    eda_df['Amount_NaN'] = df.isnull().sum()\n",
    "    eda_df['%_NaN'] = df.isnull().mean().round(2)\n",
    "    eda_df['DType'] = df.dtypes\n",
    "    eda_df['Amount_Data'] = df.count()\n",
    "    \n",
    "    if order == True:\n",
    "        colunas = sorted(df.columns.tolist(), key=str.lower, reverse=False)\n",
    "    else:\n",
    "        colunas = df.columns.tolist()\n",
    "    eda_df['Amount_Unique'] = filtered_result = list(map(lambda x: len(df[x].unique().tolist()), colunas))\n",
    "    \n",
    "    eda_df['Mean'] = np.round(df.mean(), 2)\n",
    "    eda_df['Median'] = np.round(df.median(), 2)\n",
    "    \n",
    "    eda_df['Max'] = df.max()\n",
    "    eda_df['Min'] = df.min()\n",
    "    eda_df['STD'] = np.round(df.std(), 2)\n",
    "    \n",
    "    return pd.DataFrame(eda_df)\n",
    "\n"
   ]
  },
  {
   "cell_type": "code",
   "execution_count": 42,
   "metadata": {},
   "outputs": [],
   "source": [
    "df = pd.read_csv(\"CarPrice_Assignment.csv\")\n",
    "#df.head()\n",
    "#EDALUCIO(df, True)"
   ]
  },
  {
   "cell_type": "code",
   "execution_count": 43,
   "metadata": {},
   "outputs": [],
   "source": [
    "#df.describe()\n",
    "#df.dtypes"
   ]
  },
  {
   "cell_type": "code",
   "execution_count": 44,
   "metadata": {},
   "outputs": [
    {
     "data": {
      "text/plain": [
       "array(['mpfi', '2bbl', 'mfi', '1bbl', 'spfi', '4bbl', 'idi', 'spdi'],\n",
       "      dtype=object)"
      ]
     },
     "execution_count": 44,
     "metadata": {},
     "output_type": "execute_result"
    }
   ],
   "source": [
    "df.CarName.unique()#remover\n",
    "df.fueltype.unique()#binary\n",
    "df.aspiration.unique()#binary\n",
    "df.doornumber.unique()#binary\n",
    "df.carbody.unique()#frequency or damies\n",
    "df.drivewheel.unique()#frequency or damies\n",
    "df.enginelocation.unique()#binary\n",
    "df.enginetype.unique()#frequency\n",
    "df.cylindernumber.unique()#corresponde a um valor maior que outro o que fazer\n",
    "df.fuelsystem.unique()#frequency\n",
    "\n"
   ]
  },
  {
   "cell_type": "code",
   "execution_count": 45,
   "metadata": {},
   "outputs": [
    {
     "data": {
      "text/html": [
       "<div>\n",
       "<style scoped>\n",
       "    .dataframe tbody tr th:only-of-type {\n",
       "        vertical-align: middle;\n",
       "    }\n",
       "\n",
       "    .dataframe tbody tr th {\n",
       "        vertical-align: top;\n",
       "    }\n",
       "\n",
       "    .dataframe thead th {\n",
       "        text-align: right;\n",
       "    }\n",
       "</style>\n",
       "<table border=\"1\" class=\"dataframe\">\n",
       "  <thead>\n",
       "    <tr style=\"text-align: right;\">\n",
       "      <th></th>\n",
       "      <th>Amount_NaN</th>\n",
       "      <th>%_NaN</th>\n",
       "      <th>DType</th>\n",
       "      <th>Amount_Data</th>\n",
       "      <th>Amount_Unique</th>\n",
       "      <th>Mean</th>\n",
       "      <th>Median</th>\n",
       "      <th>Max</th>\n",
       "      <th>Min</th>\n",
       "      <th>STD</th>\n",
       "    </tr>\n",
       "  </thead>\n",
       "  <tbody>\n",
       "    <tr>\n",
       "      <th>CarName</th>\n",
       "      <td>0</td>\n",
       "      <td>0.0</td>\n",
       "      <td>object</td>\n",
       "      <td>205</td>\n",
       "      <td>2</td>\n",
       "      <td>NaN</td>\n",
       "      <td>NaN</td>\n",
       "      <td>vw rabbit</td>\n",
       "      <td>Nissan versa</td>\n",
       "      <td>NaN</td>\n",
       "    </tr>\n",
       "    <tr>\n",
       "      <th>aspiration</th>\n",
       "      <td>0</td>\n",
       "      <td>0.0</td>\n",
       "      <td>object</td>\n",
       "      <td>205</td>\n",
       "      <td>38</td>\n",
       "      <td>NaN</td>\n",
       "      <td>NaN</td>\n",
       "      <td>turbo</td>\n",
       "      <td>std</td>\n",
       "      <td>NaN</td>\n",
       "    </tr>\n",
       "    <tr>\n",
       "      <th>carbody</th>\n",
       "      <td>0</td>\n",
       "      <td>0.0</td>\n",
       "      <td>object</td>\n",
       "      <td>205</td>\n",
       "      <td>49</td>\n",
       "      <td>NaN</td>\n",
       "      <td>NaN</td>\n",
       "      <td>wagon</td>\n",
       "      <td>convertible</td>\n",
       "      <td>NaN</td>\n",
       "    </tr>\n",
       "    <tr>\n",
       "      <th>cylindernumber</th>\n",
       "      <td>0</td>\n",
       "      <td>0.0</td>\n",
       "      <td>object</td>\n",
       "      <td>205</td>\n",
       "      <td>7</td>\n",
       "      <td>NaN</td>\n",
       "      <td>NaN</td>\n",
       "      <td>two</td>\n",
       "      <td>eight</td>\n",
       "      <td>NaN</td>\n",
       "    </tr>\n",
       "    <tr>\n",
       "      <th>doornumber</th>\n",
       "      <td>0</td>\n",
       "      <td>0.0</td>\n",
       "      <td>object</td>\n",
       "      <td>205</td>\n",
       "      <td>2</td>\n",
       "      <td>NaN</td>\n",
       "      <td>NaN</td>\n",
       "      <td>two</td>\n",
       "      <td>four</td>\n",
       "      <td>NaN</td>\n",
       "    </tr>\n",
       "    <tr>\n",
       "      <th>drivewheel</th>\n",
       "      <td>0</td>\n",
       "      <td>0.0</td>\n",
       "      <td>object</td>\n",
       "      <td>205</td>\n",
       "      <td>3</td>\n",
       "      <td>NaN</td>\n",
       "      <td>NaN</td>\n",
       "      <td>rwd</td>\n",
       "      <td>4wd</td>\n",
       "      <td>NaN</td>\n",
       "    </tr>\n",
       "    <tr>\n",
       "      <th>enginelocation</th>\n",
       "      <td>0</td>\n",
       "      <td>0.0</td>\n",
       "      <td>object</td>\n",
       "      <td>205</td>\n",
       "      <td>2</td>\n",
       "      <td>NaN</td>\n",
       "      <td>NaN</td>\n",
       "      <td>rear</td>\n",
       "      <td>front</td>\n",
       "      <td>NaN</td>\n",
       "    </tr>\n",
       "    <tr>\n",
       "      <th>enginetype</th>\n",
       "      <td>0</td>\n",
       "      <td>0.0</td>\n",
       "      <td>object</td>\n",
       "      <td>205</td>\n",
       "      <td>7</td>\n",
       "      <td>NaN</td>\n",
       "      <td>NaN</td>\n",
       "      <td>rotor</td>\n",
       "      <td>dohc</td>\n",
       "      <td>NaN</td>\n",
       "    </tr>\n",
       "    <tr>\n",
       "      <th>fuelsystem</th>\n",
       "      <td>0</td>\n",
       "      <td>0.0</td>\n",
       "      <td>object</td>\n",
       "      <td>205</td>\n",
       "      <td>8</td>\n",
       "      <td>NaN</td>\n",
       "      <td>NaN</td>\n",
       "      <td>spfi</td>\n",
       "      <td>1bbl</td>\n",
       "      <td>NaN</td>\n",
       "    </tr>\n",
       "    <tr>\n",
       "      <th>fueltype</th>\n",
       "      <td>0</td>\n",
       "      <td>0.0</td>\n",
       "      <td>object</td>\n",
       "      <td>205</td>\n",
       "      <td>2</td>\n",
       "      <td>NaN</td>\n",
       "      <td>NaN</td>\n",
       "      <td>gas</td>\n",
       "      <td>diesel</td>\n",
       "      <td>NaN</td>\n",
       "    </tr>\n",
       "  </tbody>\n",
       "</table>\n",
       "</div>"
      ],
      "text/plain": [
       "                Amount_NaN  %_NaN   DType  Amount_Data  Amount_Unique  Mean  \\\n",
       "CarName                  0    0.0  object          205              2   NaN   \n",
       "aspiration               0    0.0  object          205             38   NaN   \n",
       "carbody                  0    0.0  object          205             49   NaN   \n",
       "cylindernumber           0    0.0  object          205              7   NaN   \n",
       "doornumber               0    0.0  object          205              2   NaN   \n",
       "drivewheel               0    0.0  object          205              3   NaN   \n",
       "enginelocation           0    0.0  object          205              2   NaN   \n",
       "enginetype               0    0.0  object          205              7   NaN   \n",
       "fuelsystem               0    0.0  object          205              8   NaN   \n",
       "fueltype                 0    0.0  object          205              2   NaN   \n",
       "\n",
       "                Median        Max           Min  STD  \n",
       "CarName            NaN  vw rabbit  Nissan versa  NaN  \n",
       "aspiration         NaN      turbo           std  NaN  \n",
       "carbody            NaN      wagon   convertible  NaN  \n",
       "cylindernumber     NaN        two         eight  NaN  \n",
       "doornumber         NaN        two          four  NaN  \n",
       "drivewheel         NaN        rwd           4wd  NaN  \n",
       "enginelocation     NaN       rear         front  NaN  \n",
       "enginetype         NaN      rotor          dohc  NaN  \n",
       "fuelsystem         NaN       spfi          1bbl  NaN  \n",
       "fueltype           NaN        gas        diesel  NaN  "
      ]
     },
     "execution_count": 45,
     "metadata": {},
     "output_type": "execute_result"
    }
   ],
   "source": [
    "seda = EDALUCIO(df, True)\n",
    "info  = seda.loc[seda['DType']=='object']\n",
    "info"
   ]
  },
  {
   "cell_type": "code",
   "execution_count": 46,
   "metadata": {},
   "outputs": [],
   "source": [
    "df['brand'] = df['CarName'].str.split(\" \").str[0]\n",
    "df['model'] = df['CarName'].str.split(\" \").str[1]\n",
    "del df[\"car_ID\"]\n",
    "del df[\"CarName\"]\n",
    "#Transformando\n",
    "#Replace de valores binários\n",
    "#df.loc[(df.fueltype == 'gas'),'fueltype']='0'\n",
    "#df.loc[(df.fueltype == 'diesel'),'fueltype']='1'\n",
    "df['fuel_binario'] = np.where(df['fueltype'] == 'gas', 1, 0)\n",
    "#-----------------------------------------------\n",
    "#df.loc[(df.aspiration == 'std'),'aspiration']='0'\n",
    "#df.loc[(df.aspiration == 'turbo'),'aspiration']='1'\n",
    "df['aspiration_binario'] = np.where(df['aspiration'] == 'std', 1, 0)\n",
    "#-----------------------------------------------\n",
    "#df.loc[(df.doornumber == 'two'),'doornumber']='0'\n",
    "#df.loc[(df.doornumber == 'four'),'doornumber']='1'\n",
    "df['doornumber_binario'] = np.where(df['doornumber'] == 'two', 1, 0)\n",
    "#-----------------------------------------------\n",
    "#df.loc[(df.enginelocation == 'front'),'enginelocation']='0'\n",
    "#df.loc[(df.enginelocation == 'rear'),'enginelocation']='1'\n",
    "df['enginelocation_binario'] = np.where(df['enginelocation'] == 'front', 1, 0)\n",
    "#------------------------------------------------\n",
    "\n",
    "\n",
    "del df['fueltype']\n",
    "del df['aspiration']\n",
    "del df['doornumber']\n",
    "del df['enginelocation']\n",
    "#Convertendo colunas para int\n",
    "#df.fueltype       = pd.to_numeric(df.fueltype, errors='raise')\n",
    "#df.aspiration     = pd.to_numeric(df.aspiration, errors='raise')\n",
    "#df.doornumber     = pd.to_numeric(df.doornumber, errors='raise')\n",
    "#df.enginelocation = pd.to_numeric(df.enginelocation, errors='raise')\n",
    "#-----------------------------------------------\n",
    "df = pd.get_dummies(df, columns=['carbody', 'drivewheel'])\n",
    "df.dtypes\n",
    "#------------------------------------------------------------\n",
    "\n",
    "encoder = ce.CountFrequencyCategoricalEncoder(encoding_method='frequency',\n",
    "                         variables=['enginetype', 'fuelsystem', 'cylindernumber' ,'brand', 'model'])\n"
   ]
  },
  {
   "cell_type": "code",
   "execution_count": 47,
   "metadata": {},
   "outputs": [],
   "source": [
    "#is_NaN = df. isnull()\n",
    "#row_has_NaN = is_NaN. any(axis=1)\n",
    "#rows_with_NaN = df[row_has_NaN].model = \"\"\n",
    "#print(rows_with_NaN)\n",
    "df = df.dropna()\n",
    "#df.dtypes\n",
    "#is_NaN = df. isnull()\n",
    "#row_has_NaN = is_NaN. any(axis=1)\n",
    "#rows_with_NaN = df[row_has_NaN].model = \"\"\n",
    "#print(rows_with_NaN)"
   ]
  },
  {
   "cell_type": "code",
   "execution_count": 48,
   "metadata": {},
   "outputs": [],
   "source": [
    "Y = df[\"price\"]\n",
    "del df[\"price\"]\n",
    "X = df\n",
    "#X = df.iloc[:, :-1].values\n",
    "#Y = df.iloc[:, -1].values\n",
    "x_columns = df.iloc[:, :-1].columns\n",
    "y_column = df.iloc[:, -1].name\n",
    "#X = pd.DataFrame(X, columns = x_columns)\n",
    "#Y = pd.Series(Y, name = y_column)\n",
    "X_train, X_test, y_train, y_test = train_test_split(X, Y, test_size=0.20, random_state=12)\n"
   ]
  },
  {
   "cell_type": "code",
   "execution_count": 51,
   "metadata": {},
   "outputs": [
    {
     "name": "stderr",
     "output_type": "stream",
     "text": [
      "/Users/jocasiso/opt/anaconda3/lib/python3.7/site-packages/feature_engine/base_transformers.py:91: UserWarning: NaN values were introduced in the returned dataframe by the encoder.This means that some of the categories in the input dataframe were not present in the training set used when the fit method was called. Thus, mappings for those categories does not exist. Try using the RareLabelCategoricalEncoder to remove infrequent categories before calling this encoder.\n",
      "  \"NaN values were introduced in the returned dataframe by the encoder.\"\n"
     ]
    }
   ],
   "source": [
    "EDALUCIO(df, True)\n",
    "\n",
    "encoder.fit(X_train)\n",
    "train_t = encoder.transform(X_train).fillna(0)\n",
    "test_t = encoder.transform(X_test).fillna(0)\n",
    "#test_t.head()\n"
   ]
  },
  {
   "cell_type": "code",
   "execution_count": 50,
   "metadata": {},
   "outputs": [],
   "source": [
    "#definir o scaler\n",
    "scaler = preprocessing.StandardScaler().fit(train_t.values)\n",
    "x_train_norm = scaler.transform(train_t.values)\n",
    "x_test_norm = scaler.transform(test_t.values)\n",
    "\n",
    "\n"
   ]
  },
  {
   "cell_type": "code",
   "execution_count": 52,
   "metadata": {},
   "outputs": [
    {
     "name": "stdout",
     "output_type": "stream",
     "text": [
      "0.934024537614763\n"
     ]
    }
   ],
   "source": [
    "reg = LinearRegression().fit(x_train_norm, y_train)\n",
    "sc1 = reg.score(x_train_norm, y_train)\n",
    "\n",
    "#reg = LinearRegression().fit(x_test_norm, y_test)\n",
    "#sc2 = reg.score(x_test_norm, y_test)\n",
    "print(sc1)\n"
   ]
  },
  {
   "cell_type": "code",
   "execution_count": 53,
   "metadata": {},
   "outputs": [
    {
     "data": {
      "text/plain": [
       "0.7967462338156117"
      ]
     },
     "execution_count": 53,
     "metadata": {},
     "output_type": "execute_result"
    }
   ],
   "source": [
    "from sklearn.metrics import r2_score\n",
    "\n",
    "y_pred = reg.predict(x_test_norm)\n",
    "r2_score(y_test, y_pred)"
   ]
  },
  {
   "cell_type": "code",
   "execution_count": null,
   "metadata": {},
   "outputs": [],
   "source": []
  }
 ],
 "metadata": {
  "kernelspec": {
   "display_name": "Python 3",
   "language": "python",
   "name": "python3"
  },
  "language_info": {
   "codemirror_mode": {
    "name": "ipython",
    "version": 3
   },
   "file_extension": ".py",
   "mimetype": "text/x-python",
   "name": "python",
   "nbconvert_exporter": "python",
   "pygments_lexer": "ipython3",
   "version": "3.7.6"
  }
 },
 "nbformat": 4,
 "nbformat_minor": 4
}
